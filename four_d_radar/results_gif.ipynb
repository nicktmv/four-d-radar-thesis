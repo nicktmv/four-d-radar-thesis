{
 "cells": [
  {
   "cell_type": "markdown",
   "id": "d3e79cca94f6f605",
   "metadata": {
    "collapsed": false
   },
   "source": [
    "## Results GIF Creation\n",
    "### This notebook is used to create a gif from the images in the results_vis folder\n",
    "### The images are created as a result of the radar detection and tracking predictions during evaluation \n"
   ]
  },
  {
   "cell_type": "code",
   "execution_count": 2,
   "id": "initial_id",
   "metadata": {
    "collapsed": false,
    "ExecuteTime": {
     "end_time": "2024-04-29T14:11:05.150879600Z",
     "start_time": "2024-04-29T14:09:46.102173300Z"
    }
   },
   "outputs": [
    {
     "name": "stdout",
     "output_type": "stream",
     "text": [
      "GIF created successfully at 'D:\\four-d-radar-thesis\\docs\\4d-radar-track-predictions.gif'!\n"
     ]
    }
   ],
   "source": [
    "import os\n",
    "import re\n",
    "from PIL import Image\n",
    "\n",
    "# Define the directory containing the images\n",
    "image_folder = r'D:\\four-d-radar-thesis\\RaTrack\\artifacts\\2024-04-29--14-30\\results_vis'\n",
    "output_folder = r\"D:\\four-d-radar-thesis\\docs\"\n",
    "\n",
    "# Ensure the output directory exists\n",
    "os.makedirs(output_folder, exist_ok=True)\n",
    "\n",
    "# Define the output file name\n",
    "output_filename = '4d-radar-track-predictions.gif'\n",
    "output_path = os.path.join(output_folder, output_filename)\n",
    "\n",
    "# Check if the file already exists\n",
    "if os.path.exists(output_path):\n",
    "    print(f\"GIF file '{output_filename}' already exists. No new file created.\")\n",
    "else:\n",
    "    # Retrieve all image files in the directory\n",
    "    image_files = [os.path.join(image_folder, f) for f in os.listdir(image_folder) if f.endswith('.png')]\n",
    "    # Sort the files by extracting numbers from filenames and converting them to integers\n",
    "    image_files.sort(key=lambda x: int(re.search(r'\\d+', os.path.basename(x)).group()))\n",
    "\n",
    "    # Create a list to hold the images\n",
    "    images = []\n",
    "\n",
    "    # Open each file, convert to the same mode and append to the list\n",
    "    for file in image_files:\n",
    "        img = Image.open(file)\n",
    "        images.append(img.convert('P', palette=Image.ADAPTIVE))\n",
    "\n",
    "    # Save the images as a GIF\n",
    "    images[0].save(output_path, save_all=True, append_images=images[1:], optimize=False, duration=200, loop=0)\n",
    "    print(f\"GIF created successfully at '{output_path}'!\")\n"
   ]
  }
 ],
 "metadata": {
  "kernelspec": {
   "display_name": "Python 3 (ipykernel)",
   "language": "python",
   "name": "python3"
  },
  "language_info": {
   "codemirror_mode": {
    "name": "ipython",
    "version": 3
   },
   "file_extension": ".py",
   "mimetype": "text/x-python",
   "name": "python",
   "nbconvert_exporter": "python",
   "pygments_lexer": "ipython3",
   "version": "3.11.0"
  }
 },
 "nbformat": 4,
 "nbformat_minor": 5
}
